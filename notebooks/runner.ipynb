{
 "cells": [
  {
   "cell_type": "code",
   "execution_count": null,
   "id": "massive-cleaners",
   "metadata": {},
   "outputs": [],
   "source": [
    "import sys\n",
    "sys.path.append('../scripts')\n",
    "import os\n",
    "\n",
    "import yaml\n",
    "import torch\n",
    "from argparse import Namespace\n",
    "from tqdm.notebook import tqdm\n",
    "\n",
    "from runner import Runner"
   ]
  },
  {
   "cell_type": "code",
   "execution_count": null,
   "id": "verbal-chancellor",
   "metadata": {},
   "outputs": [],
   "source": [
    "from metrics import LWLRAP\n",
    "from torch_lr_finder import LRFinder\n"
   ]
  },
  {
   "cell_type": "code",
   "execution_count": null,
   "id": "greek-hybrid",
   "metadata": {},
   "outputs": [],
   "source": [
    "import numpy as np"
   ]
  },
  {
   "cell_type": "code",
   "execution_count": null,
   "id": "needed-participant",
   "metadata": {},
   "outputs": [],
   "source": [
    "\n",
    "device = torch.device(\"cuda\" if torch.cuda.is_available() else \"cpu\")\n",
    "device"
   ]
  },
  {
   "cell_type": "code",
   "execution_count": null,
   "id": "civilian-indicator",
   "metadata": {},
   "outputs": [],
   "source": [
    "with open('/home/jupyter/rfcx_submission/config/training_config.yaml', 'r') as f:\n",
    "    args= yaml.load(f,  yaml.FullLoader)"
   ]
  },
  {
   "cell_type": "code",
   "execution_count": null,
   "id": "enhanced-carnival",
   "metadata": {},
   "outputs": [],
   "source": [
    "args['epochs'] = 10\n",
    "args['batch_size'] =2\n",
    "save_path = 'result/run1_no_aug'\n",
    "args"
   ]
  },
  {
   "cell_type": "code",
   "execution_count": null,
   "id": "unique-theta",
   "metadata": {},
   "outputs": [],
   "source": [
    "os.makedirs(save_path, exist_ok=True)"
   ]
  },
  {
   "cell_type": "code",
   "execution_count": null,
   "id": "prospective-grave",
   "metadata": {},
   "outputs": [],
   "source": [
    "args= Namespace(**args)"
   ]
  },
  {
   "cell_type": "code",
   "execution_count": null,
   "id": "necessary-colonial",
   "metadata": {},
   "outputs": [],
   "source": [
    "runner= Runner(device, args)"
   ]
  },
  {
   "cell_type": "code",
   "execution_count": null,
   "id": "ecological-malpractice",
   "metadata": {},
   "outputs": [],
   "source": [
    "runner.set_data_loader()"
   ]
  },
  {
   "cell_type": "code",
   "execution_count": null,
   "id": "lesser-circus",
   "metadata": {},
   "outputs": [],
   "source": [
    "runner.set_model()"
   ]
  },
  {
   "cell_type": "code",
   "execution_count": null,
   "id": "convenient-liverpool",
   "metadata": {},
   "outputs": [],
   "source": [
    "runner.args.training['upstream']"
   ]
  },
  {
   "cell_type": "code",
   "execution_count": null,
   "id": "pharmaceutical-kuwait",
   "metadata": {},
   "outputs": [],
   "source": [
    "class WeightedFocalLoss(torch.nn.Module):\n",
    "    \"Non weighted version of Focal Loss\"\n",
    "    def __init__(self, alpha=.25, gamma=1):\n",
    "        super(WeightedFocalLoss, self).__init__()\n",
    "        self.alpha = torch.tensor([alpha, 1-alpha]).cuda()\n",
    "        self.gamma = gamma\n",
    "\n",
    "    def forward(self, inputs, targets):\n",
    "        BCE_loss = torch.nn.functional.binary_cross_entropy(inputs, targets, reduction='none')\n",
    "        targets = targets.type(torch.long)\n",
    "        \n",
    "        at = self.alpha.gather(0, targets.data.view(-1))\n",
    "        at = at.data.view(targets.shape[0], -1)\n",
    "\n",
    "        pt = torch.exp(-BCE_loss)\n",
    "        F_loss = at*(1-pt)**self.gamma * BCE_loss\n",
    "        return F_loss.mean()\n",
    "    \n",
    "    \n",
    "class FocalLoss(torch.nn.Module):\n",
    "    def __init__(self, alpha=5, gamma=2):\n",
    "        super(FocalLoss, self).__init__()\n",
    "        self.alpha = alpha\n",
    "        self.gamma = gamma\n",
    "\n",
    "\n",
    "    def forward(self, inputs, targets):\n",
    "\n",
    "        BCE_loss = torch.nn.functional.binary_cross_entropy(inputs, targets, reduce=False)\n",
    "        pt = torch.exp(-BCE_loss)\n",
    "        F_loss = self.alpha * (1-pt)**self.gamma * BCE_loss\n",
    "\n",
    " \n",
    "        return torch.mean(F_loss)\n",
    "\n",
    "num_birds = 24\n",
    "pos_weights = torch.ones(num_birds)\n",
    "pos_weights = pos_weights * 8        \n",
    "loss_function = torch.nn.BCELoss()"
   ]
  },
  {
   "cell_type": "code",
   "execution_count": null,
   "id": "coordinated-michigan",
   "metadata": {},
   "outputs": [],
   "source": [
    "# plist = [\n",
    "#          {'params': runner.model.upstream.parameters(), 'lr': 1e-4,},\n",
    "#          {'params':runner.model.downstream.parameters(), 'lr': 1e-2}\n",
    "#          ]\n",
    "\n",
    "# optimizer = torch.optim.Adam(plist, lr=0.001 )\n",
    "\n",
    "\n",
    "optimizer = torch.optim.Adam(runner.model.downstream.parameters(), lr=0.01 )\n"
   ]
  },
  {
   "cell_type": "code",
   "execution_count": null,
   "id": "lesbian-gambling",
   "metadata": {},
   "outputs": [],
   "source": []
  },
  {
   "cell_type": "code",
   "execution_count": null,
   "id": "noticed-research",
   "metadata": {},
   "outputs": [],
   "source": [
    "# lr_finder = LRFinder(runner.model, optimizer, loss_function, device=device)\n",
    "# lr_finder.range_test(runner.train_dataloader, val_loader=runner.eval_dataloader, end_lr=1, num_iter=100, step_mode=\"linear\")\n",
    "# lr_finder.plot(log_lr=False)\n",
    "# lr_finder.reset()"
   ]
  },
  {
   "cell_type": "code",
   "execution_count": null,
   "id": "interim-retail",
   "metadata": {},
   "outputs": [],
   "source": [
    "scheduler = torch.optim.lr_scheduler.StepLR(optimizer, step_size=2, gamma=0.1)"
   ]
  },
  {
   "cell_type": "code",
   "execution_count": null,
   "id": "burning-perth",
   "metadata": {},
   "outputs": [],
   "source": [
    "accumulation_steps= 4"
   ]
  },
  {
   "cell_type": "code",
   "execution_count": null,
   "id": "annual-conclusion",
   "metadata": {},
   "outputs": [],
   "source": [
    "best_lwrap= 0\n",
    "\n",
    "for i in range(args.epochs):\n",
    "    \n",
    "    train_loss = []\n",
    "    train_lwlrap = []\n",
    "    \n",
    "    runner.model.train()\n",
    "    if not runner.args.training['upstream']:\n",
    "        runner.model.upstream.eval()\n",
    "\n",
    "    runner.model.downstream.train()\n",
    "\n",
    "    pbar = tqdm(enumerate(runner.train_dataloader), \n",
    "                                      total= len(runner.train_dataloader))\n",
    "\n",
    "    optimizer.zero_grad()\n",
    "    for batch, (data, target) in  pbar :\n",
    "        \n",
    "        target = target.cuda()\n",
    "        \n",
    "        output = runner.model([d.cuda() for d in data])\n",
    "        loss = loss_function(output, target)\n",
    "        \n",
    "        _score= LWLRAP(output.cpu(), target.cpu())\n",
    "        \n",
    "        train_lwlrap.append(_score)\n",
    "        train_loss.append(loss.item())\n",
    "        \n",
    "        pbar.set_description(f\"loss : {round(loss.item(), 3)} score: {round(_score,3)}\")\n",
    "        \n",
    "        \n",
    "        loss = loss / accumulation_steps\n",
    "        loss.backward()\n",
    "        \n",
    "        if (i+1) % accumulation_steps == 0:\n",
    "            optimizer.step()\n",
    "            optimizer.zero_grad()\n",
    "    \n",
    "    for g in optimizer.param_groups:\n",
    "        \n",
    "        lr = g['lr']\n",
    "    print(f'Epoch : {i}  training end. LR: {lr}  Loss: {np.mean(train_loss)}  lwrlrap_score: {np.mean(train_lwlrap)}')\n",
    "        \n",
    "        \n",
    "#     with torch.no_grad():\n",
    "#         val_loss = []\n",
    "#         val_lwlrap = []\n",
    "        \n",
    "#         runner.model.eval()\n",
    "#         for batch, (data, target) in tqdm(enumerate(runner.eval_dataloader), total= len(runner.eval_dataloader)):\n",
    "\n",
    "#             target = target.cuda()\n",
    "\n",
    "#             output = runner.model([d.cuda() for d in data])\n",
    "#             loss = loss_function(output, target)\n",
    "            \n",
    "        \n",
    "#             val_loss.append(loss.item())\n",
    "                                        \n",
    "#             _score= LWLRAP(output.cpu(), target.cpu())\n",
    "#             val_lwlrap.append(_score)\n",
    "    \n",
    "#         print(f'Valid Loss: {np.mean(val_loss)}  lwrlrap_score: {np.mean(val_lwlrap)}')\n",
    "    \n",
    "#     if np.mean(val_lwlrap) > best_lwrap:\n",
    "#         torch.save(runner.model.state_dict(), f'{save_path}/best_model_{i}.pt')\n",
    "#         best_lwrap = np.mean(val_lwlrap)\n",
    "        \n",
    "    scheduler.step()\n",
    "\n",
    "torch.save(runner.model.state_dict(), f'{save_path}/best_model_{i}.pt')"
   ]
  },
  {
   "cell_type": "code",
   "execution_count": null,
   "id": "medical-border",
   "metadata": {},
   "outputs": [],
   "source": [
    "1"
   ]
  },
  {
   "cell_type": "code",
   "execution_count": null,
   "id": "confidential-bulgarian",
   "metadata": {},
   "outputs": [],
   "source": [
    "80*4801"
   ]
  },
  {
   "cell_type": "code",
   "execution_count": null,
   "id": "registered-sunday",
   "metadata": {},
   "outputs": [],
   "source": []
  }
 ],
 "metadata": {
  "environment": {
   "name": "tf2-gpu.2-3.mnightly-2021-01-20-debian-10-test",
   "type": "gcloud",
   "uri": "gcr.io/deeplearning-platform-release/tf2-gpu.2-3:mnightly-2021-01-20-debian-10-test"
  },
  "kernelspec": {
   "display_name": "Python 3",
   "language": "python",
   "name": "python3"
  },
  "language_info": {
   "codemirror_mode": {
    "name": "ipython",
    "version": 3
   },
   "file_extension": ".py",
   "mimetype": "text/x-python",
   "name": "python",
   "nbconvert_exporter": "python",
   "pygments_lexer": "ipython3",
   "version": "3.7.9"
  }
 },
 "nbformat": 4,
 "nbformat_minor": 5
}
