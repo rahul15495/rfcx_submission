{
 "cells": [
  {
   "cell_type": "code",
   "execution_count": 1,
   "id": "municipal-variety",
   "metadata": {},
   "outputs": [],
   "source": [
    "import warnings\n",
    "warnings.filterwarnings('ignore')"
   ]
  },
  {
   "cell_type": "code",
   "execution_count": 2,
   "id": "raised-matter",
   "metadata": {},
   "outputs": [
    {
     "name": "stdout",
     "output_type": "stream",
     "text": [
      "Better speed can be achieved with apex installed from https://www.github.com/nvidia/apex .\n"
     ]
    }
   ],
   "source": [
    "import sys\n",
    "sys.path.append('../scripts')\n",
    "import os\n",
    "\n",
    "import yaml\n",
    "import torch\n",
    "from argparse import Namespace\n",
    "from tqdm.notebook import tqdm\n",
    "\n",
    "from runner import Runner\n",
    "from metrics import LWLRAP\n"
   ]
  },
  {
   "cell_type": "code",
   "execution_count": 3,
   "id": "electric-sunset",
   "metadata": {},
   "outputs": [],
   "source": [
    "from transformers import (\n",
    "    AdamW,\n",
    "    get_linear_schedule_with_warmup,\n",
    ")"
   ]
  },
  {
   "cell_type": "code",
   "execution_count": 4,
   "id": "protected-colombia",
   "metadata": {},
   "outputs": [],
   "source": [
    "import numpy as np"
   ]
  },
  {
   "cell_type": "code",
   "execution_count": 5,
   "id": "level-focus",
   "metadata": {},
   "outputs": [
    {
     "data": {
      "text/plain": [
       "device(type='cuda')"
      ]
     },
     "execution_count": 5,
     "metadata": {},
     "output_type": "execute_result"
    }
   ],
   "source": [
    "\n",
    "device = torch.device(\"cuda\" if torch.cuda.is_available() else \"cpu\")\n",
    "device"
   ]
  },
  {
   "cell_type": "code",
   "execution_count": 6,
   "id": "based-python",
   "metadata": {},
   "outputs": [],
   "source": [
    "with open('/home/jupyter/rfcx_submission/config/training_config.yaml', 'r') as f:\n",
    "    args= yaml.load(f,  yaml.FullLoader)"
   ]
  },
  {
   "cell_type": "code",
   "execution_count": 7,
   "id": "broad-spouse",
   "metadata": {},
   "outputs": [
    {
     "data": {
      "text/plain": [
       "{'batch_size': 2,\n",
       " 'ckpt_path': None,\n",
       " 'csv_path': '/home/jupyter/rfcx_submission/notebooks/train_tp.csv',\n",
       " 'data_dir': '/home/jupyter/rfcx/data/train',\n",
       " 'transformer_config_path': '/home/jupyter/rfcx_submission/config/upstream_config.yaml',\n",
       " 'transformer_weights_path': '/home/jupyter/rfcx/rfcx/model_weights/mockingjay_mel80_no_delta_cmvn_run4/states-2000.ckpt',\n",
       " 'training': {'upstream': False, 'downstream': True},\n",
       " 'epochs': 20,\n",
       " 'gradient_accumulation_steps': 8,\n",
       " 'warmup_steps': 0,\n",
       " 'mixup': 0,\n",
       " 'aug': 0,\n",
       " 'loss': 'WeightedFocalLoss'}"
      ]
     },
     "execution_count": 7,
     "metadata": {},
     "output_type": "execute_result"
    }
   ],
   "source": [
    "args['epochs'] = 20\n",
    "args['batch_size'] =2\n",
    "args['gradient_accumulation_steps'] =8\n",
    "args['warmup_steps'] = 0\n",
    "args['mixup'] = 0\n",
    "args['aug'] = 0\n",
    "args['loss'] = 'WeightedFocalLoss'\n",
    "save_path = 'result/run1_no_aug_no_mixup'\n",
    "args"
   ]
  },
  {
   "cell_type": "code",
   "execution_count": 8,
   "id": "surface-lingerie",
   "metadata": {},
   "outputs": [],
   "source": [
    "os.makedirs(save_path, exist_ok=True)"
   ]
  },
  {
   "cell_type": "code",
   "execution_count": 9,
   "id": "cheap-consideration",
   "metadata": {},
   "outputs": [],
   "source": [
    "args= Namespace(**args)"
   ]
  },
  {
   "cell_type": "code",
   "execution_count": 10,
   "id": "associate-thong",
   "metadata": {},
   "outputs": [],
   "source": [
    "runner= Runner(device, args)"
   ]
  },
  {
   "cell_type": "code",
   "execution_count": 11,
   "id": "smooth-easter",
   "metadata": {},
   "outputs": [
    {
     "name": "stdout",
     "output_type": "stream",
     "text": [
      "training: number of docs : 566\n",
      "evaluation: number of docs : 566\n"
     ]
    }
   ],
   "source": [
    "runner.set_data_loader()"
   ]
  },
  {
   "cell_type": "code",
   "execution_count": 12,
   "id": "coastal-marking",
   "metadata": {},
   "outputs": [],
   "source": [
    "runner.set_model()"
   ]
  },
  {
   "cell_type": "code",
   "execution_count": 13,
   "id": "emerging-dublin",
   "metadata": {},
   "outputs": [
    {
     "data": {
      "text/plain": [
       "<All keys matched successfully>"
      ]
     },
     "execution_count": 13,
     "metadata": {},
     "output_type": "execute_result"
    }
   ],
   "source": [
    "ckpt= torch.load('result/run1_no_aug_no_mixup/best_model_19.pt',map_location='cpu')\n",
    "runner.model.upstream.load_state_dict(ckpt['upstream'])\n",
    "runner.model.downstream.load_state_dict(ckpt['downstream'])\n"
   ]
  },
  {
   "cell_type": "code",
   "execution_count": 14,
   "id": "interracial-camcorder",
   "metadata": {},
   "outputs": [
    {
     "data": {
      "text/plain": [
       "False"
      ]
     },
     "execution_count": 14,
     "metadata": {},
     "output_type": "execute_result"
    }
   ],
   "source": [
    "runner.args.training['upstream']"
   ]
  },
  {
   "cell_type": "code",
   "execution_count": 15,
   "id": "infectious-graham",
   "metadata": {},
   "outputs": [],
   "source": [
    "def save_ckpt(model, optimizer, save_path,args, i):\n",
    "    print(f'saving model at epoch {i}')\n",
    "    all_states = {\n",
    "        'upstream' : model.upstream.state_dict(),\n",
    "        'downstream' : model.downstream.state_dict(),\n",
    "        'optimizer' : optimizer.state_dict(),\n",
    "        'config' : vars(args)\n",
    "    }\n",
    "    torch.save(all_states, f'{save_path}/best_model_{i}.pt')"
   ]
  },
  {
   "cell_type": "code",
   "execution_count": 16,
   "id": "ceramic-first",
   "metadata": {},
   "outputs": [],
   "source": [
    "class WeightedFocalLoss(torch.nn.Module):\n",
    "    \"Non weighted version of Focal Loss\"\n",
    "    def __init__(self, alpha=.25, gamma=1):\n",
    "        super(WeightedFocalLoss, self).__init__()\n",
    "        self.alpha = torch.tensor([alpha, 1-alpha]).cuda()\n",
    "        self.gamma = gamma\n",
    "\n",
    "    def forward(self, inputs, targets):\n",
    "        BCE_loss = torch.nn.functional.binary_cross_entropy(inputs, targets, reduction='none')\n",
    "        targets = targets.type(torch.long)\n",
    "        \n",
    "        at = self.alpha.gather(0, targets.data.view(-1))\n",
    "        at = at.data.view(targets.shape[0], -1)\n",
    "\n",
    "        pt = torch.exp(-BCE_loss)\n",
    "        F_loss = at*(1-pt)**self.gamma * BCE_loss\n",
    "        return F_loss.mean()\n",
    "    \n",
    "    \n",
    "class FocalLoss(torch.nn.Module):\n",
    "    def __init__(self, alpha=5, gamma=2):\n",
    "        super(FocalLoss, self).__init__()\n",
    "        self.alpha = alpha\n",
    "        self.gamma = gamma\n",
    "\n",
    "\n",
    "    def forward(self, inputs, targets):\n",
    "\n",
    "        BCE_loss = torch.nn.functional.binary_cross_entropy(inputs, targets, reduce=False)\n",
    "        pt = torch.exp(-BCE_loss)\n",
    "        F_loss = self.alpha * (1-pt)**self.gamma * BCE_loss\n",
    "\n",
    " \n",
    "        return torch.mean(F_loss)\n",
    "\n",
    "# num_birds = 24\n",
    "# pos_weights = torch.ones(num_birds)\n",
    "# pos_weights = pos_weights * 8   \n",
    "# loss_function = torch.nn.BCELoss(pos_weights.cuda())\n",
    "# loss_function = torch.nn.BCELoss()\n",
    "loss_function = WeightedFocalLoss()"
   ]
  },
  {
   "cell_type": "code",
   "execution_count": 17,
   "id": "brave-variable",
   "metadata": {},
   "outputs": [
    {
     "name": "stdout",
     "output_type": "stream",
     "text": [
      "1400\n"
     ]
    }
   ],
   "source": [
    "t_total = (\n",
    "    len(runner.train_dataloader)\n",
    "    // args.gradient_accumulation_steps\n",
    "    * args.epochs\n",
    ")\n",
    "\n",
    "print(t_total)"
   ]
  },
  {
   "cell_type": "code",
   "execution_count": 18,
   "id": "manual-dance",
   "metadata": {},
   "outputs": [],
   "source": [
    "# plist = [\n",
    "#          {'params': runner.model.upstream.parameters(), 'lr': 1e-4,},\n",
    "#          {'params':runner.model.downstream.parameters(), 'lr': 1e-2}\n",
    "#          ]\n",
    "\n",
    "    \n",
    "optimizer = AdamW(params= runner.model.downstream.parameters(), lr= 0.01, )\n",
    "\n",
    "scheduler = get_linear_schedule_with_warmup(\n",
    "    optimizer, num_warmup_steps=args.warmup_steps, num_training_steps=t_total)"
   ]
  },
  {
   "cell_type": "code",
   "execution_count": 19,
   "id": "accepting-brain",
   "metadata": {},
   "outputs": [],
   "source": [
    "accumulation_steps= args.gradient_accumulation_steps"
   ]
  },
  {
   "cell_type": "code",
   "execution_count": null,
   "id": "proud-captain",
   "metadata": {},
   "outputs": [
    {
     "data": {
      "application/vnd.jupyter.widget-view+json": {
       "model_id": "359cbeff457d4de087c4d2385f115174",
       "version_major": 2,
       "version_minor": 0
      },
      "text/plain": [
       "HBox(children=(FloatProgress(value=0.0, max=566.0), HTML(value='')))"
      ]
     },
     "metadata": {},
     "output_type": "display_data"
    },
    {
     "name": "stdout",
     "output_type": "stream",
     "text": [
      "\n",
      "Epoch : 0  training end. LR: 0.01  Loss: 0.035  lwrlrap_score: 0.534\n"
     ]
    },
    {
     "data": {
      "application/vnd.jupyter.widget-view+json": {
       "model_id": "241f6d68ea8348bfb319a3223940e494",
       "version_major": 2,
       "version_minor": 0
      },
      "text/plain": [
       "HBox(children=(FloatProgress(value=0.0, max=566.0), HTML(value='')))"
      ]
     },
     "metadata": {},
     "output_type": "display_data"
    },
    {
     "name": "stdout",
     "output_type": "stream",
     "text": [
      "\n",
      "Epoch : 1  training end. LR: 0.01  Loss: 0.057  lwrlrap_score: 0.357\n"
     ]
    },
    {
     "data": {
      "application/vnd.jupyter.widget-view+json": {
       "model_id": "b63ac9373a5940a28d4f0aca4d4e591d",
       "version_major": 2,
       "version_minor": 0
      },
      "text/plain": [
       "HBox(children=(FloatProgress(value=0.0, max=566.0), HTML(value='')))"
      ]
     },
     "metadata": {},
     "output_type": "display_data"
    }
   ],
   "source": [
    "best_lwrap= 0\n",
    "\n",
    "for i in range(args.epochs):\n",
    "    \n",
    "    train_loss = []\n",
    "    train_lwlrap = []\n",
    "    \n",
    "    runner.model.train()\n",
    "    if not runner.args.training['upstream']:\n",
    "        runner.model.upstream.eval()\n",
    "\n",
    "    runner.model.downstream.train()\n",
    "\n",
    "    pbar = tqdm(enumerate(runner.train_dataloader), \n",
    "                                      total= len(runner.train_dataloader))\n",
    "\n",
    "    runner.model.zero_grad()\n",
    "    for batch, (data, target) in  pbar :\n",
    "        \n",
    "        target = target.cuda()\n",
    "        \n",
    "        output = runner.model([d.cuda() for d in data])\n",
    "        loss = loss_function(output, target)\n",
    "        \n",
    "        _score= LWLRAP(output.cpu(), target.cpu())\n",
    "        \n",
    "        train_lwlrap.append(_score)\n",
    "        train_loss.append(loss.item())\n",
    "        \n",
    "        pbar.set_description(f\"loss : {round(loss.item(), 3)} score: {round(_score,3)}\")\n",
    "        \n",
    "        \n",
    "        loss = loss / accumulation_steps\n",
    "        loss.backward()\n",
    "        \n",
    "        if (i+1) % accumulation_steps == 0 or (batch+1) == len(runner.train_dataloader):\n",
    "            optimizer.step()\n",
    "            scheduler.step()\n",
    "            runner.model.zero_grad()\n",
    "    \n",
    "    for g in optimizer.param_groups:\n",
    "        \n",
    "        lr = g['lr']\n",
    "    print(f'Epoch : {i}  training end. LR: {round(lr, 3)}  Loss: {round (np.mean(train_loss) , 3)}  lwrlrap_score: {round(np.mean(train_lwlrap), 3)}')\n",
    "        \n",
    "        \n",
    "#     with torch.no_grad():\n",
    "#         val_loss = []\n",
    "#         val_lwlrap = []\n",
    "\n",
    "#         runner.model.eval()\n",
    "#         pbar = tqdm(enumerate(runner.eval_dataloader), \n",
    "#                                           total= len(runner.eval_dataloader))\n",
    "#         for batch, (data, target) in pbar:\n",
    "\n",
    "#             target = target.cuda()\n",
    "\n",
    "#             output = runner.model([d.cuda() for d in data])\n",
    "#             loss = loss_function(output, target)\n",
    "\n",
    "#             val_loss.append(loss.item())\n",
    "\n",
    "#             _score= LWLRAP(output.cpu(), target.cpu())\n",
    "#             val_lwlrap.append(_score)\n",
    "#             pbar.set_description(f\"loss : {round(loss.item(), 3)} score: {round(_score,3)}\")\n",
    "\n",
    "#         print(f'Valid Loss: {np.mean(val_loss)}  val_lwrlrap_score: {np.mean(val_lwlrap)}')\n",
    "    \n",
    "#     if np.mean(val_lwlrap) > best_lwrap:\n",
    "#         save_ckpt(runner.model, optimizer, save_path,args, i)\n",
    "#         best_lwrap = np.mean(val_lwlrap)\n",
    "        \n",
    "\n",
    "# save_ckpt(runner.model, optimizer, save_path,args, i)"
   ]
  },
  {
   "cell_type": "code",
   "execution_count": null,
   "id": "determined-worst",
   "metadata": {},
   "outputs": [],
   "source": [
    "# save_ckpt(runner.model, optimizer, save_path,args, i)"
   ]
  },
  {
   "cell_type": "code",
   "execution_count": null,
   "id": "functional-maintenance",
   "metadata": {},
   "outputs": [],
   "source": [
    "# pbar.set_description(f\"loss : {round(loss.item(), 3)} score: {round(_score,3)} {output.argmax(axis=1).item()} {target.argmax(axis=1).item()} \")"
   ]
  },
  {
   "cell_type": "code",
   "execution_count": null,
   "id": "knowing-evolution",
   "metadata": {},
   "outputs": [],
   "source": [
    "    with torch.no_grad():\n",
    "        val_loss = []\n",
    "        val_lwlrap = []\n",
    "\n",
    "        runner.model.eval()\n",
    "        pbar = tqdm(enumerate(runner.eval_dataloader), \n",
    "                                          total= len(runner.eval_dataloader))\n",
    "        for batch, (data, target) in pbar:\n",
    "\n",
    "            target = target.cuda()\n",
    "\n",
    "            output = runner.model([d.cuda() for d in data])\n",
    "            loss = loss_function(output, target)\n",
    "            print(f'{output.argmax(axis=1)} {target.argmax(axis=1)}')\n",
    "\n",
    "            val_loss.append(loss.item())\n",
    "\n",
    "            _score= LWLRAP(output.cpu(), target.cpu())\n",
    "            val_lwlrap.append(_score)\n",
    "            pbar.set_description(f\"loss : {round(loss.item(), 3)} score: {round(_score,3)}\")\n",
    "\n",
    "        print(f'Valid Loss: {np.mean(val_loss)}  val_lwrlrap_score: {np.mean(val_lwlrap)}')"
   ]
  },
  {
   "cell_type": "code",
   "execution_count": null,
   "id": "exotic-wallace",
   "metadata": {},
   "outputs": [],
   "source": [
    "output"
   ]
  },
  {
   "cell_type": "code",
   "execution_count": null,
   "id": "international-london",
   "metadata": {},
   "outputs": [],
   "source": [
    "target.argmax(axis=1)"
   ]
  },
  {
   "cell_type": "code",
   "execution_count": null,
   "id": "jewish-directory",
   "metadata": {},
   "outputs": [],
   "source": [
    "1"
   ]
  },
  {
   "cell_type": "code",
   "execution_count": null,
   "id": "incorrect-findings",
   "metadata": {},
   "outputs": [],
   "source": []
  }
 ],
 "metadata": {
  "environment": {
   "name": "tf2-gpu.2-3.mnightly-2021-01-20-debian-10-test",
   "type": "gcloud",
   "uri": "gcr.io/deeplearning-platform-release/tf2-gpu.2-3:mnightly-2021-01-20-debian-10-test"
  },
  "kernelspec": {
   "display_name": "Python 3",
   "language": "python",
   "name": "python3"
  },
  "language_info": {
   "codemirror_mode": {
    "name": "ipython",
    "version": 3
   },
   "file_extension": ".py",
   "mimetype": "text/x-python",
   "name": "python",
   "nbconvert_exporter": "python",
   "pygments_lexer": "ipython3",
   "version": "3.7.9"
  }
 },
 "nbformat": 4,
 "nbformat_minor": 5
}
