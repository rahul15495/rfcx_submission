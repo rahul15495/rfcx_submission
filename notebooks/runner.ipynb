{
 "cells": [
  {
   "cell_type": "code",
   "execution_count": 1,
   "id": "previous-sucking",
   "metadata": {},
   "outputs": [
    {
     "name": "stdout",
     "output_type": "stream",
     "text": [
      "Better speed can be achieved with apex installed from https://www.github.com/nvidia/apex .\n"
     ]
    }
   ],
   "source": [
    "import sys\n",
    "sys.path.append('../scripts')\n",
    "import os\n",
    "\n",
    "import yaml\n",
    "import torch\n",
    "from argparse import Namespace\n",
    "from tqdm.notebook import tqdm\n",
    "\n",
    "from runner import Runner\n",
    "from metrics import LWLRAP\n"
   ]
  },
  {
   "cell_type": "code",
   "execution_count": 2,
   "id": "legal-diamond",
   "metadata": {},
   "outputs": [],
   "source": [
    "from transformers import (\n",
    "    AdamW,\n",
    "    get_linear_schedule_with_warmup,\n",
    ")"
   ]
  },
  {
   "cell_type": "code",
   "execution_count": 3,
   "id": "coastal-heading",
   "metadata": {},
   "outputs": [],
   "source": [
    "import numpy as np"
   ]
  },
  {
   "cell_type": "code",
   "execution_count": 4,
   "id": "detailed-hopkins",
   "metadata": {},
   "outputs": [
    {
     "data": {
      "text/plain": [
       "device(type='cpu')"
      ]
     },
     "execution_count": 4,
     "metadata": {},
     "output_type": "execute_result"
    }
   ],
   "source": [
    "\n",
    "device = torch.device(\"cuda\" if torch.cuda.is_available() else \"cpu\")\n",
    "device"
   ]
  },
  {
   "cell_type": "code",
   "execution_count": 5,
   "id": "endless-conjunction",
   "metadata": {},
   "outputs": [],
   "source": [
    "with open('/home/jupyter/rfcx_submission/config/training_config.yaml', 'r') as f:\n",
    "    args= yaml.load(f,  yaml.FullLoader)"
   ]
  },
  {
   "cell_type": "code",
   "execution_count": 6,
   "id": "abandoned-welding",
   "metadata": {},
   "outputs": [
    {
     "data": {
      "text/plain": [
       "{'batch_size': 2,\n",
       " 'ckpt_path': None,\n",
       " 'csv_path': '/home/jupyter/rfcx_submission/notebooks/train_tp.csv',\n",
       " 'data_dir': '/home/jupyter/rfcx/data/train',\n",
       " 'transformer_config_path': '/home/jupyter/rfcx_submission/config/upstream_config.yaml',\n",
       " 'transformer_weights_path': '/home/jupyter/rfcx/rfcx/model_weights/mockingjay_mel80_no_delta_cmvn_run4/states-2000.ckpt',\n",
       " 'training': {'upstream': False, 'downstream': True},\n",
       " 'epochs': 10,\n",
       " 'gradient_accumulation_steps': 1,\n",
       " 'warmup_steps': 0}"
      ]
     },
     "execution_count": 6,
     "metadata": {},
     "output_type": "execute_result"
    }
   ],
   "source": [
    "args['epochs'] = 10\n",
    "args['batch_size'] =2\n",
    "args['gradient_accumulation_steps'] =1\n",
    "args['warmup_steps'] = 0\n",
    "save_path = 'result/run1_no_aug'\n",
    "args"
   ]
  },
  {
   "cell_type": "code",
   "execution_count": 7,
   "id": "working-gardening",
   "metadata": {},
   "outputs": [],
   "source": [
    "os.makedirs(save_path, exist_ok=True)"
   ]
  },
  {
   "cell_type": "code",
   "execution_count": 8,
   "id": "theoretical-plymouth",
   "metadata": {},
   "outputs": [],
   "source": [
    "args= Namespace(**args)"
   ]
  },
  {
   "cell_type": "code",
   "execution_count": 9,
   "id": "scientific-receipt",
   "metadata": {},
   "outputs": [],
   "source": [
    "runner= Runner(device, args)"
   ]
  },
  {
   "cell_type": "code",
   "execution_count": 10,
   "id": "female-hierarchy",
   "metadata": {},
   "outputs": [
    {
     "name": "stdout",
     "output_type": "stream",
     "text": [
      "training: number of docs : 1\n",
      "evaluation: number of docs : 1\n"
     ]
    }
   ],
   "source": [
    "runner.set_data_loader()"
   ]
  },
  {
   "cell_type": "code",
   "execution_count": 11,
   "id": "quick-coordinate",
   "metadata": {},
   "outputs": [
    {
     "name": "stderr",
     "output_type": "stream",
     "text": [
      "/opt/conda/lib/python3.7/site-packages/torch/nn/modules/rnn.py:61: UserWarning: dropout option adds dropout after all but last recurrent layer, so non-zero dropout expects num_layers greater than 1, but got dropout=0.3 and num_layers=1\n",
      "  \"num_layers={}\".format(dropout, num_layers))\n"
     ]
    }
   ],
   "source": [
    "runner.set_model()"
   ]
  },
  {
   "cell_type": "code",
   "execution_count": 12,
   "id": "plain-rainbow",
   "metadata": {},
   "outputs": [
    {
     "data": {
      "text/plain": [
       "False"
      ]
     },
     "execution_count": 12,
     "metadata": {},
     "output_type": "execute_result"
    }
   ],
   "source": [
    "runner.args.training['upstream']"
   ]
  },
  {
   "cell_type": "code",
   "execution_count": 27,
   "id": "cooked-homework",
   "metadata": {},
   "outputs": [],
   "source": [
    "def save_ckpt(model, optimizer, save_path,args, i):\n",
    "    print(f'saving model at epoch {i}')\n",
    "    all_states = {\n",
    "        'upstream' : model.upstream.state_dict(),\n",
    "        'downstream' : model.downstream.state_dict(),\n",
    "        'optimizer' : optimizer.state_dict(),\n",
    "        'config' : vars(args)\n",
    "    }\n",
    "    torch.save(all_states, f'{save_path}/best_model_{i}.pt')"
   ]
  },
  {
   "cell_type": "code",
   "execution_count": 13,
   "id": "subject-vietnamese",
   "metadata": {},
   "outputs": [],
   "source": [
    "class WeightedFocalLoss(torch.nn.Module):\n",
    "    \"Non weighted version of Focal Loss\"\n",
    "    def __init__(self, alpha=.25, gamma=1):\n",
    "        super(WeightedFocalLoss, self).__init__()\n",
    "        self.alpha = torch.tensor([alpha, 1-alpha]).cuda()\n",
    "        self.gamma = gamma\n",
    "\n",
    "    def forward(self, inputs, targets):\n",
    "        BCE_loss = torch.nn.functional.binary_cross_entropy(inputs, targets, reduction='none')\n",
    "        targets = targets.type(torch.long)\n",
    "        \n",
    "        at = self.alpha.gather(0, targets.data.view(-1))\n",
    "        at = at.data.view(targets.shape[0], -1)\n",
    "\n",
    "        pt = torch.exp(-BCE_loss)\n",
    "        F_loss = at*(1-pt)**self.gamma * BCE_loss\n",
    "        return F_loss.mean()\n",
    "    \n",
    "    \n",
    "class FocalLoss(torch.nn.Module):\n",
    "    def __init__(self, alpha=5, gamma=2):\n",
    "        super(FocalLoss, self).__init__()\n",
    "        self.alpha = alpha\n",
    "        self.gamma = gamma\n",
    "\n",
    "\n",
    "    def forward(self, inputs, targets):\n",
    "\n",
    "        BCE_loss = torch.nn.functional.binary_cross_entropy(inputs, targets, reduce=False)\n",
    "        pt = torch.exp(-BCE_loss)\n",
    "        F_loss = self.alpha * (1-pt)**self.gamma * BCE_loss\n",
    "\n",
    " \n",
    "        return torch.mean(F_loss)\n",
    "\n",
    "# num_birds = 24\n",
    "# pos_weights = torch.ones(num_birds)\n",
    "# pos_weights = pos_weights * 8   \n",
    "\n",
    "loss_function = torch.nn.BCELoss()"
   ]
  },
  {
   "cell_type": "code",
   "execution_count": 14,
   "id": "pacific-indie",
   "metadata": {},
   "outputs": [
    {
     "name": "stdout",
     "output_type": "stream",
     "text": [
      "10\n"
     ]
    }
   ],
   "source": [
    "t_total = (\n",
    "    len(runner.train_dataloader)\n",
    "    // args.gradient_accumulation_steps\n",
    "    * args.epochs\n",
    ")\n",
    "\n",
    "print(t_total)"
   ]
  },
  {
   "cell_type": "code",
   "execution_count": 15,
   "id": "dense-bottom",
   "metadata": {},
   "outputs": [],
   "source": [
    "\n",
    "    \n",
    "optimizer = AdamW(params= runner.model.downstream.parameters(), lr= 0.01, )\n",
    "\n",
    "scheduler = get_linear_schedule_with_warmup(\n",
    "    optimizer, num_warmup_steps=args.warmup_steps, num_training_steps=t_total)"
   ]
  },
  {
   "cell_type": "code",
   "execution_count": 16,
   "id": "facial-grant",
   "metadata": {},
   "outputs": [],
   "source": [
    "# plist = [\n",
    "#          {'params': runner.model.upstream.parameters(), 'lr': 1e-4,},\n",
    "#          {'params':runner.model.downstream.parameters(), 'lr': 1e-2}\n",
    "#          ]\n",
    "\n",
    "# optimizer = torch.optim.Adam(plist, lr=0.001 )\n",
    "\n",
    "\n",
    "# optimizer = torch.optim.Adam(runner.model.downstream.parameters(), lr=0.01 )\n"
   ]
  },
  {
   "cell_type": "code",
   "execution_count": null,
   "id": "baking-hypothesis",
   "metadata": {},
   "outputs": [],
   "source": []
  },
  {
   "cell_type": "code",
   "execution_count": 17,
   "id": "distinguished-attempt",
   "metadata": {},
   "outputs": [],
   "source": [
    "# lr_finder = LRFinder(runner.model, optimizer, loss_function, device=device)\n",
    "# lr_finder.range_test(runner.train_dataloader, val_loader=runner.eval_dataloader, end_lr=1, num_iter=100, step_mode=\"linear\")\n",
    "# lr_finder.plot(log_lr=False)\n",
    "# lr_finder.reset()"
   ]
  },
  {
   "cell_type": "code",
   "execution_count": 18,
   "id": "soviet-genetics",
   "metadata": {},
   "outputs": [],
   "source": [
    "#scheduler = torch.optim.lr_scheduler.StepLR(optimizer, step_size=2, gamma=0.1)"
   ]
  },
  {
   "cell_type": "code",
   "execution_count": 19,
   "id": "declared-joyce",
   "metadata": {},
   "outputs": [],
   "source": [
    "accumulation_steps= args.gradient_accumulation_steps"
   ]
  },
  {
   "cell_type": "code",
   "execution_count": null,
   "id": "standing-adult",
   "metadata": {},
   "outputs": [],
   "source": [
    "best_lwrap= 0\n",
    "\n",
    "for i in range(args.epochs):\n",
    "    \n",
    "    train_loss = []\n",
    "    train_lwlrap = []\n",
    "    \n",
    "    runner.model.train()\n",
    "    if not runner.args.training['upstream']:\n",
    "        runner.model.upstream.eval()\n",
    "\n",
    "    runner.model.downstream.train()\n",
    "\n",
    "    pbar = tqdm(enumerate(runner.train_dataloader), \n",
    "                                      total= len(runner.train_dataloader))\n",
    "\n",
    "    runner.model.zero_grad()\n",
    "    for batch, (data, target) in  pbar :\n",
    "        \n",
    "        target = target.cpu()\n",
    "        \n",
    "        output = runner.model([d.cpu() for d in data])\n",
    "        loss = loss_function(output, target)\n",
    "        \n",
    "        _score= LWLRAP(output.cpu(), target.cpu())\n",
    "        \n",
    "        train_lwlrap.append(_score)\n",
    "        train_loss.append(loss.item())\n",
    "        \n",
    "        pbar.set_description(f\"loss : {round(loss.item(), 3)} score: {round(_score,3)}\")\n",
    "        \n",
    "        \n",
    "        loss = loss / accumulation_steps\n",
    "        loss.backward()\n",
    "        \n",
    "        if (i+1) % accumulation_steps == 0 or (batch+1) == len(runner.train_dataloader):\n",
    "            optimizer.step()\n",
    "            scheduler.step()\n",
    "            runner.model.zero_grad()\n",
    "    \n",
    "    for g in optimizer.param_groups:\n",
    "        \n",
    "        lr = g['lr']\n",
    "    print(f'Epoch : {i}  training end. LR: {round(lr, 3)}  Loss: {round (np.mean(train_loss) , 3)}  lwrlrap_score: {round(np.mean(train_lwlrap), 3)}')\n",
    "        \n",
    "        \n",
    "    with torch.no_grad():\n",
    "        val_loss = []\n",
    "        val_lwlrap = []\n",
    "        \n",
    "        runner.model.eval()\n",
    "        for batch, (data, target) in tqdm(enumerate(runner.eval_dataloader), total= len(runner.eval_dataloader)):\n",
    "\n",
    "            target = target.cuda()\n",
    "\n",
    "            output = runner.model([d.cuda() for d in data])\n",
    "            loss = loss_function(output, target)\n",
    "            \n",
    "        \n",
    "            val_loss.append(loss.item())\n",
    "                                        \n",
    "            _score= LWLRAP(output.cpu(), target.cpu())\n",
    "            val_lwlrap.append(_score)\n",
    "    \n",
    "        print(f'Valid Loss: {np.mean(val_loss)}  lwrlrap_score: {np.mean(val_lwlrap)}')\n",
    "    \n",
    "    if np.mean(val_lwlrap) > best_lwrap:\n",
    "        save_ckpt(runner.model, optimizer, save_path,args, i)\n",
    "        best_lwrap = np.mean(val_lwlrap)\n",
    "        \n",
    "\n",
    "save_ckpt(runner.model, optimizer, save_path,args, i)"
   ]
  },
  {
   "cell_type": "code",
   "execution_count": null,
   "id": "honest-ferry",
   "metadata": {},
   "outputs": [],
   "source": []
  }
 ],
 "metadata": {
  "environment": {
   "name": "tf2-gpu.2-3.mnightly-2021-01-20-debian-10-test",
   "type": "gcloud",
   "uri": "gcr.io/deeplearning-platform-release/tf2-gpu.2-3:mnightly-2021-01-20-debian-10-test"
  },
  "kernelspec": {
   "display_name": "Python 3",
   "language": "python",
   "name": "python3"
  },
  "language_info": {
   "codemirror_mode": {
    "name": "ipython",
    "version": 3
   },
   "file_extension": ".py",
   "mimetype": "text/x-python",
   "name": "python",
   "nbconvert_exporter": "python",
   "pygments_lexer": "ipython3",
   "version": "3.7.9"
  }
 },
 "nbformat": 4,
 "nbformat_minor": 5
}
