{
 "cells": [
  {
   "cell_type": "code",
   "execution_count": null,
   "id": "complex-vatican",
   "metadata": {},
   "outputs": [],
   "source": [
    "import sys\n",
    "sys.path.append('../scripts')\n",
    "\n",
    "import yaml\n",
    "import torch\n",
    "from argparse import Namespace\n",
    "from tqdm.notebook import tqdm\n",
    "\n",
    "from runner import Runner"
   ]
  },
  {
   "cell_type": "code",
   "execution_count": null,
   "id": "european-insight",
   "metadata": {},
   "outputs": [],
   "source": [
    "from metrics import LWLRAP\n"
   ]
  },
  {
   "cell_type": "code",
   "execution_count": null,
   "id": "ongoing-subcommittee",
   "metadata": {},
   "outputs": [],
   "source": [
    "\n",
    "device = torch.device(\"cuda\" if torch.cuda.is_available() else \"cpu\")"
   ]
  },
  {
   "cell_type": "code",
   "execution_count": null,
   "id": "offensive-march",
   "metadata": {},
   "outputs": [],
   "source": [
    "with open('/home/jupyter/rfcx_submission/config/training_config.yaml', 'r') as f:\n",
    "    args= yaml.load(f,  yaml.FullLoader)"
   ]
  },
  {
   "cell_type": "code",
   "execution_count": null,
   "id": "northern-beads",
   "metadata": {},
   "outputs": [],
   "source": [
    "args['epochs'] = 5"
   ]
  },
  {
   "cell_type": "code",
   "execution_count": null,
   "id": "sonic-appearance",
   "metadata": {},
   "outputs": [],
   "source": [
    "args= Namespace(**args)"
   ]
  },
  {
   "cell_type": "code",
   "execution_count": null,
   "id": "herbal-minneapolis",
   "metadata": {},
   "outputs": [],
   "source": [
    "runner= Runner(device, args)"
   ]
  },
  {
   "cell_type": "code",
   "execution_count": null,
   "id": "exceptional-minnesota",
   "metadata": {},
   "outputs": [],
   "source": [
    "runner.set_data_loader()"
   ]
  },
  {
   "cell_type": "code",
   "execution_count": null,
   "id": "colored-group",
   "metadata": {},
   "outputs": [],
   "source": [
    "runner.set_model()"
   ]
  },
  {
   "cell_type": "code",
   "execution_count": null,
   "id": "english-jungle",
   "metadata": {},
   "outputs": [],
   "source": [
    "runner.args.training['upstream']"
   ]
  },
  {
   "cell_type": "code",
   "execution_count": null,
   "id": "italian-yellow",
   "metadata": {},
   "outputs": [],
   "source": [
    "loss_function = torch.nn.BCELoss()"
   ]
  },
  {
   "cell_type": "code",
   "execution_count": null,
   "id": "outer-latter",
   "metadata": {},
   "outputs": [],
   "source": [
    "optimizer = torch.optim.Adam(runner.model.parameters(), lr=0.001, )\n",
    "scheduler = torch.optim.lr_scheduler.StepLR(optimizer, step_size=2, gamma=0.4)"
   ]
  },
  {
   "cell_type": "code",
   "execution_count": null,
   "id": "reflected-madrid",
   "metadata": {},
   "outputs": [],
   "source": [
    "best_lwrap= 0\n",
    "\n",
    "for i in range(args.epochs):\n",
    "    \n",
    "    train_loss = []\n",
    "    train_lwlrap = []\n",
    "    \n",
    "    runner.model.train()\n",
    "    if not runner.args.training['upstream']:\n",
    "        runner.model.upstream.eval()\n",
    "    \n",
    "    for batch, (data, target) in tqdm(enumerate(runner.train_dataloader), total= len(runner.train_dataloader)):\n",
    "\n",
    "            \n",
    "        optimizer.zero_grad()\n",
    "        \n",
    "        output = runner.model(data)\n",
    "        loss = loss_function(output, target)\n",
    "        \n",
    "        loss.backward()\n",
    "        optimizer.step()\n",
    "        \n",
    "        train_loss.append(loss.item())\n",
    "        _score= LWLRAP(output, target)\n",
    "        \n",
    "        train_lwlrap.append(_score)\n",
    "        print(f'loss : {loss.item()} score: {_score}')\n",
    "    \n",
    "    for g in optimizer.param_groups:\n",
    "        \n",
    "        lr = g['lr']\n",
    "    print(f'Epoch : {i}  training end. LR: {lr}  Loss: {torch.mean(train_loss)}  lwrlrap_score: {torch.mean(train_lwlrap)}')\n",
    "        \n",
    "        \n",
    "    with torch.no_grad():\n",
    "        val_loss = []\n",
    "        val_lwlrap = []\n",
    "        \n",
    "        model.eval()\n",
    "        for batch, (data, target) in tqdm(enumerate(runner.eval_dataloader), total= len(runner.eval_dataloader)):\n",
    "\n",
    "            \n",
    "            output = runner.model(data)\n",
    "            loss = loss_function(output, target)\n",
    "            \n",
    "        \n",
    "            val_loss.append(loss.item())\n",
    "                                        \n",
    "            _score= LWLRAP(output, target)\n",
    "            val_lwlrap.append(_score)\n",
    "    \n",
    "    print(f'Valid Loss: {torch.mean(val_loss)}  lwrlrap_score: {torch.mean(val_lwlrap)}')\n",
    "    \n",
    "    if torch.mean(val_lwlrap) > best_lwrap:\n",
    "        torch.save(model, 'best_model_{i}.pt')\n",
    "        best_lwrap = torch.mean(val_lwlrap)\n",
    "        \n",
    "    scheduler.step()\n",
    "\n",
    "torch.save(model, 'best_model_{i}.pt')"
   ]
  },
  {
   "cell_type": "code",
   "execution_count": null,
   "id": "ranging-street",
   "metadata": {},
   "outputs": [],
   "source": []
  }
 ],
 "metadata": {
  "environment": {
   "name": "tf2-gpu.2-3.mnightly-2021-01-20-debian-10-test",
   "type": "gcloud",
   "uri": "gcr.io/deeplearning-platform-release/tf2-gpu.2-3:mnightly-2021-01-20-debian-10-test"
  },
  "kernelspec": {
   "display_name": "Python 3",
   "language": "python",
   "name": "python3"
  },
  "language_info": {
   "codemirror_mode": {
    "name": "ipython",
    "version": 3
   },
   "file_extension": ".py",
   "mimetype": "text/x-python",
   "name": "python",
   "nbconvert_exporter": "python",
   "pygments_lexer": "ipython3",
   "version": "3.7.9"
  }
 },
 "nbformat": 4,
 "nbformat_minor": 5
}
