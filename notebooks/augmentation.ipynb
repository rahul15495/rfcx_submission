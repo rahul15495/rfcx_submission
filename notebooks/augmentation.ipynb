{
 "cells": [
  {
   "cell_type": "code",
   "execution_count": null,
   "id": "united-zealand",
   "metadata": {},
   "outputs": [],
   "source": [
    "from IPython.display import Audio\n"
   ]
  },
  {
   "cell_type": "code",
   "execution_count": null,
   "id": "corresponding-playing",
   "metadata": {},
   "outputs": [],
   "source": [
    "import sys\n",
    "import glob\n",
    "import importlib\n",
    "sys.path.append('/home/jupyter/rfcx_submission/scripts')"
   ]
  },
  {
   "cell_type": "code",
   "execution_count": null,
   "id": "entertaining-thanksgiving",
   "metadata": {},
   "outputs": [],
   "source": [
    "from audiomentations import Compose, AddGaussianNoise, AddGaussianSNR , PitchShift , Gain\n",
    "import numpy as np"
   ]
  },
  {
   "cell_type": "code",
   "execution_count": null,
   "id": "eleven-injection",
   "metadata": {},
   "outputs": [],
   "source": [
    "import librosa\n",
    "import librosa.display"
   ]
  },
  {
   "cell_type": "code",
   "execution_count": null,
   "id": "dense-apple",
   "metadata": {},
   "outputs": [],
   "source": [
    "import load_mel\n",
    "from augment import do_aug"
   ]
  },
  {
   "cell_type": "code",
   "execution_count": null,
   "id": "hired-richardson",
   "metadata": {},
   "outputs": [],
   "source": [
    "def show_audio(y,sr):\n",
    "    librosa.display.waveplot(y, sr=sr)\n",
    "\n",
    "    spec= load_mel.get_spectrogram(y,sr,apply_denoise=False,return_audio=False)\n",
    "    load_mel.plot_feature(spec)\n",
    "    \n",
    "    return Audio(y,rate=sr)"
   ]
  },
  {
   "cell_type": "code",
   "execution_count": null,
   "id": "naked-british",
   "metadata": {},
   "outputs": [],
   "source": [
    "import colorednoise as cn\n",
    "\n",
    "class AudioTransform:\n",
    "    def __init__(self, always_apply=False, p=0.5):\n",
    "        self.always_apply = always_apply\n",
    "        self.p = p\n",
    "\n",
    "    def __call__(self, y: np.ndarray, sr: int):\n",
    "        if self.always_apply:\n",
    "            return self.apply(y)\n",
    "        else:\n",
    "            if np.random.rand() < self.p:\n",
    "                return self.apply(y)\n",
    "            else:\n",
    "                return y\n",
    "\n",
    "    def apply(self, y: np.ndarray):\n",
    "        raise NotImplementedError\n",
    "        \n",
    "        \n",
    "        \n",
    "class PinkNoiseSNR(AudioTransform):\n",
    "    def __init__(self, always_apply=False, p=0.5, min_snr=5.0, max_snr=20.0, **kwargs):\n",
    "        super().__init__(always_apply, p)\n",
    "\n",
    "        self.min_snr = min_snr\n",
    "        self.max_snr = max_snr\n",
    "\n",
    "    def apply(self, y: np.ndarray, **params):\n",
    "        snr = np.random.uniform(self.min_snr, self.max_snr)\n",
    "        a_signal = np.sqrt(y ** 2).max()\n",
    "        a_noise = a_signal / (10 ** (snr / 20))\n",
    "\n",
    "        pink_noise = cn.powerlaw_psd_gaussian(1, len(y))\n",
    "        a_pink = np.sqrt(pink_noise ** 2).max()\n",
    "        augmented = (y + pink_noise * 1 / a_pink * a_noise).astype(y.dtype)\n",
    "        return augmented"
   ]
  },
  {
   "cell_type": "code",
   "execution_count": null,
   "id": "brave-chrome",
   "metadata": {},
   "outputs": [],
   "source": [
    "audio_files= glob.glob('/home/jupyter/rfcx/data/*/*.flac')\n",
    "# audio_files= glob.glob('/home/jupyter/librispeech/LibriSpeech/test-other/1688/142285/*.flac')\n",
    "len(audio_files)\n"
   ]
  },
  {
   "cell_type": "code",
   "execution_count": null,
   "id": "comparable-currency",
   "metadata": {},
   "outputs": [],
   "source": [
    "input_file= audio_files[-10]\n",
    "input_file"
   ]
  },
  {
   "cell_type": "code",
   "execution_count": null,
   "id": "advised-affiliate",
   "metadata": {},
   "outputs": [],
   "source": [
    "SAMPLE_RATE = 16000\n"
   ]
  },
  {
   "cell_type": "code",
   "execution_count": null,
   "id": "composed-passenger",
   "metadata": {},
   "outputs": [],
   "source": [
    "y, sr = librosa.load(input_file, sr=SAMPLE_RATE, duration=10)\n",
    "show_audio(y,sr)"
   ]
  },
  {
   "cell_type": "code",
   "execution_count": null,
   "id": "indian-genius",
   "metadata": {},
   "outputs": [],
   "source": [
    "y_deniosed= load_mel.denoise(y, sr)\n",
    "show_audio(y_deniosed,sr)"
   ]
  },
  {
   "cell_type": "code",
   "execution_count": null,
   "id": "challenging-drive",
   "metadata": {},
   "outputs": [],
   "source": [
    "\n",
    "augment = Compose([PitchShift(min_semitones=-4, max_semitones=4, p=0.5),\n",
    "                   Gain(min_gain_in_db=-12, max_gain_in_db=12, p=0.5),\n",
    "                   AddGaussianNoise(min_amplitude=0.001, max_amplitude=0.015, p=0.5),\n",
    "                   AddGaussianSNR(min_SNR=0.1, max_SNR=1, p=1),\n",
    "                   PinkNoiseSNR(min_snr=5.0, max_snr=20.0, p=0.5)\n",
    "                   ])"
   ]
  },
  {
   "cell_type": "code",
   "execution_count": null,
   "id": "continent-insert",
   "metadata": {},
   "outputs": [],
   "source": [
    "y_aug = augment(samples=y, sample_rate=SAMPLE_RATE)\n",
    "\n",
    "show_audio(y_aug, SAMPLE_RATE)"
   ]
  },
  {
   "cell_type": "code",
   "execution_count": null,
   "id": "executed-tunisia",
   "metadata": {},
   "outputs": [],
   "source": [
    "y_aug_deniosed = augment(samples=y_deniosed, sample_rate=SAMPLE_RATE)\n",
    "\n",
    "show_audio(y_aug_deniosed, SAMPLE_RATE)"
   ]
  },
  {
   "cell_type": "code",
   "execution_count": null,
   "id": "american-optics",
   "metadata": {},
   "outputs": [],
   "source": []
  },
  {
   "cell_type": "code",
   "execution_count": null,
   "id": "seasonal-elevation",
   "metadata": {},
   "outputs": [],
   "source": []
  },
  {
   "cell_type": "code",
   "execution_count": null,
   "id": "standing-trinidad",
   "metadata": {},
   "outputs": [],
   "source": [
    "y,sr= load_mel.load_audio(input_file, SAMPLE_RATE)\n",
    "show_audio(y, SAMPLE_RATE)"
   ]
  },
  {
   "cell_type": "code",
   "execution_count": null,
   "id": "rolled-incident",
   "metadata": {},
   "outputs": [],
   "source": [
    "y_deniosed= load_mel.denoise(y, sr)\n",
    "show_audio(y_deniosed,sr)"
   ]
  },
  {
   "cell_type": "code",
   "execution_count": null,
   "id": "amino-armstrong",
   "metadata": {},
   "outputs": [],
   "source": []
  },
  {
   "cell_type": "code",
   "execution_count": null,
   "id": "wrong-there",
   "metadata": {},
   "outputs": [],
   "source": [
    "y_aug = do_aug(samples=y, sample_rate=SAMPLE_RATE)\n",
    "\n",
    "show_audio(y_aug, SAMPLE_RATE)"
   ]
  },
  {
   "cell_type": "code",
   "execution_count": null,
   "id": "welsh-header",
   "metadata": {},
   "outputs": [],
   "source": [
    "y_aug2 = do_aug(samples=y_deniosed, sample_rate=SAMPLE_RATE)\n",
    "\n",
    "show_audio(y_aug2, SAMPLE_RATE)"
   ]
  },
  {
   "cell_type": "code",
   "execution_count": null,
   "id": "homeless-logan",
   "metadata": {},
   "outputs": [],
   "source": []
  }
 ],
 "metadata": {
  "environment": {
   "name": "tf2-gpu.2-3.mnightly-2021-01-20-debian-10-test",
   "type": "gcloud",
   "uri": "gcr.io/deeplearning-platform-release/tf2-gpu.2-3:mnightly-2021-01-20-debian-10-test"
  },
  "kernelspec": {
   "display_name": "Python 3",
   "language": "python",
   "name": "python3"
  },
  "language_info": {
   "codemirror_mode": {
    "name": "ipython",
    "version": 3
   },
   "file_extension": ".py",
   "mimetype": "text/x-python",
   "name": "python",
   "nbconvert_exporter": "python",
   "pygments_lexer": "ipython3",
   "version": "3.7.9"
  }
 },
 "nbformat": 4,
 "nbformat_minor": 5
}
