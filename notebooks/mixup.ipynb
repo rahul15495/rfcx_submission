{
 "cells": [
  {
   "cell_type": "code",
   "execution_count": null,
   "id": "gentle-dietary",
   "metadata": {},
   "outputs": [],
   "source": [
    "from IPython.display import Audio\n"
   ]
  },
  {
   "cell_type": "code",
   "execution_count": null,
   "id": "static-solid",
   "metadata": {},
   "outputs": [],
   "source": [
    "import sys\n",
    "import glob\n",
    "import importlib\n",
    "sys.path.append('/home/jupyter/rfcx_submission/scripts')"
   ]
  },
  {
   "cell_type": "code",
   "execution_count": null,
   "id": "corrected-mixer",
   "metadata": {},
   "outputs": [],
   "source": [
    "import librosa\n",
    "import librosa.display"
   ]
  },
  {
   "cell_type": "code",
   "execution_count": null,
   "id": "helpful-opposition",
   "metadata": {},
   "outputs": [],
   "source": [
    "import load_mel\n",
    "from augment import do_aug"
   ]
  },
  {
   "cell_type": "code",
   "execution_count": null,
   "id": "working-choice",
   "metadata": {},
   "outputs": [],
   "source": [
    "def show_audio(y,sr):\n",
    "    librosa.display.waveplot(y, sr=sr)\n",
    "\n",
    "    spec= load_mel.get_spectrogram(y,sr,apply_denoise=False,return_audio=False)\n",
    "    load_mel.plot_feature(spec)\n",
    "    \n",
    "    return Audio(y,rate=sr)"
   ]
  },
  {
   "cell_type": "code",
   "execution_count": null,
   "id": "blind-programming",
   "metadata": {},
   "outputs": [],
   "source": [
    "audio_files= glob.glob('/home/jupyter/rfcx/data/*/*.flac')\n",
    "# audio_files= glob.glob('/home/jupyter/librispeech/LibriSpeech/test-other/1688/142285/*.flac')\n",
    "len(audio_files)\n"
   ]
  },
  {
   "cell_type": "code",
   "execution_count": null,
   "id": "essential-latino",
   "metadata": {},
   "outputs": [],
   "source": [
    "input_file , input_file2 = audio_files[1] , audio_files[2]\n",
    "input_file"
   ]
  },
  {
   "cell_type": "code",
   "execution_count": null,
   "id": "protected-therapy",
   "metadata": {},
   "outputs": [],
   "source": [
    "SAMPLE_RATE = 16000\n"
   ]
  },
  {
   "cell_type": "code",
   "execution_count": null,
   "id": "computational-specific",
   "metadata": {},
   "outputs": [],
   "source": [
    "y,sr= load_mel.load_audio(input_file, SAMPLE_RATE)\n",
    "show_audio(y, SAMPLE_RATE)"
   ]
  },
  {
   "cell_type": "code",
   "execution_count": null,
   "id": "graphic-commodity",
   "metadata": {},
   "outputs": [],
   "source": [
    "y_deniosed= load_mel.denoise(y, sr)\n",
    "show_audio(y_deniosed,sr)"
   ]
  },
  {
   "cell_type": "code",
   "execution_count": null,
   "id": "reported-benjamin",
   "metadata": {},
   "outputs": [],
   "source": [
    "y_aug= do_aug(y_deniosed, sr)\n",
    "show_audio(y_aug,sr)"
   ]
  },
  {
   "cell_type": "code",
   "execution_count": null,
   "id": "emotional-benefit",
   "metadata": {},
   "outputs": [],
   "source": [
    "y2,sr= load_mel.load_audio(input_file2, SAMPLE_RATE)\n",
    "show_audio(y2, SAMPLE_RATE)"
   ]
  },
  {
   "cell_type": "code",
   "execution_count": null,
   "id": "premium-thursday",
   "metadata": {},
   "outputs": [],
   "source": [
    "y_deniosed2= load_mel.denoise(y2, sr)\n",
    "show_audio(y_deniosed2,sr)"
   ]
  },
  {
   "cell_type": "code",
   "execution_count": null,
   "id": "running-sunglasses",
   "metadata": {},
   "outputs": [],
   "source": [
    "mixed_up= y+y2\n",
    "show_audio(mixed_up,sr)"
   ]
  },
  {
   "cell_type": "code",
   "execution_count": null,
   "id": "recent-external",
   "metadata": {},
   "outputs": [],
   "source": [
    "mixed_up_denoised= y_deniosed+ y_deniosed2\n",
    "show_audio(mixed_up_denoised,sr)"
   ]
  },
  {
   "cell_type": "code",
   "execution_count": null,
   "id": "union-alarm",
   "metadata": {},
   "outputs": [],
   "source": [
    "mixed_up_denoised= y+ y_deniosed2\n",
    "show_audio(mixed_up_denoised,sr)"
   ]
  },
  {
   "cell_type": "code",
   "execution_count": null,
   "id": "plastic-plate",
   "metadata": {},
   "outputs": [],
   "source": [
    "mixed_up_denoised= y_deniosed+ y2\n",
    "show_audio(mixed_up_denoised,sr)"
   ]
  },
  {
   "cell_type": "code",
   "execution_count": null,
   "id": "treated-invitation",
   "metadata": {},
   "outputs": [],
   "source": [
    "alpha= 0.5\n",
    "mixed_up_denoised= alpha*y_deniosed+ (1-alpha)*y_deniosed2\n",
    "show_audio(mixed_up_denoised,sr)"
   ]
  },
  {
   "cell_type": "code",
   "execution_count": null,
   "id": "guided-tournament",
   "metadata": {},
   "outputs": [],
   "source": []
  },
  {
   "cell_type": "code",
   "execution_count": null,
   "id": "norwegian-grill",
   "metadata": {},
   "outputs": [],
   "source": [
    "import numpy as np\n",
    "import random"
   ]
  },
  {
   "cell_type": "code",
   "execution_count": null,
   "id": "minus-torture",
   "metadata": {},
   "outputs": [],
   "source": [
    "class MixUp:\n",
    "    def __init__(self ,denoise,sr):\n",
    "        '''\n",
    "        Args:\n",
    "            denoise : function object to denoise input signals\n",
    "        '''\n",
    "        self.denoise = denoise\n",
    "        self.sr= sr\n",
    "\n",
    "    def __call__(self, y1, y2, alpha=None):\n",
    "        if not alpha :\n",
    "            alpha= np.random.uniform(0.3, 0.7)\n",
    "        \n",
    "        option = random.choice([0,1,2,3])\n",
    "        \n",
    "        a,b= y1.copy() , y2.copy()\n",
    "        \n",
    "        if option==1:\n",
    "            a= self.denoise(a, sr)\n",
    "        elif option==2:\n",
    "            b= self.denoise(b, sr)\n",
    "        elif option==3:\n",
    "            a= self.denoise(a, sr)\n",
    "            b= self.denoise(b, sr)\n",
    "        else:\n",
    "            #option==0\n",
    "            pass\n",
    "        \n",
    "        y= alpha*a +(1-alpha)*b\n",
    "        print(option)\n",
    "        return alpha,y"
   ]
  },
  {
   "cell_type": "code",
   "execution_count": null,
   "id": "three-principal",
   "metadata": {},
   "outputs": [],
   "source": [
    "mixup = MixUp(load_mel.denoise, SAMPLE_RATE)"
   ]
  },
  {
   "cell_type": "code",
   "execution_count": null,
   "id": "bulgarian-october",
   "metadata": {},
   "outputs": [],
   "source": [
    "alpha,y3 = mixup(y, y2 )\n",
    "print(alpha)\n",
    "show_audio(y3,SAMPLE_RATE)\n"
   ]
  },
  {
   "cell_type": "code",
   "execution_count": null,
   "id": "fitted-proportion",
   "metadata": {},
   "outputs": [],
   "source": []
  }
 ],
 "metadata": {
  "environment": {
   "name": "tf2-gpu.2-3.mnightly-2021-01-20-debian-10-test",
   "type": "gcloud",
   "uri": "gcr.io/deeplearning-platform-release/tf2-gpu.2-3:mnightly-2021-01-20-debian-10-test"
  },
  "kernelspec": {
   "display_name": "Python 3",
   "language": "python",
   "name": "python3"
  },
  "language_info": {
   "codemirror_mode": {
    "name": "ipython",
    "version": 3
   },
   "file_extension": ".py",
   "mimetype": "text/x-python",
   "name": "python",
   "nbconvert_exporter": "python",
   "pygments_lexer": "ipython3",
   "version": "3.7.9"
  }
 },
 "nbformat": 4,
 "nbformat_minor": 5
}
