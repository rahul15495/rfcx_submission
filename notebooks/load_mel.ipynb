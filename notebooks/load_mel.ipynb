{
 "cells": [
  {
   "cell_type": "code",
   "execution_count": null,
   "id": "straight-relationship",
   "metadata": {},
   "outputs": [],
   "source": [
    "import sys\n",
    "import glob\n",
    "import importlib\n",
    "sys.path.append('/home/jupyter/rfcx_submission/scripts')"
   ]
  },
  {
   "cell_type": "code",
   "execution_count": null,
   "id": "level-tissue",
   "metadata": {},
   "outputs": [],
   "source": [
    "#importlib.reload(my_module)"
   ]
  },
  {
   "cell_type": "code",
   "execution_count": null,
   "id": "magnetic-grass",
   "metadata": {},
   "outputs": [],
   "source": [
    "import load_mel"
   ]
  },
  {
   "cell_type": "code",
   "execution_count": null,
   "id": "regulation-filing",
   "metadata": {},
   "outputs": [],
   "source": [
    "audio_files= glob.glob('/home/jupyter/rfcx/data/*/*.flac')\n",
    "# audio_files= glob.glob('/home/jupyter/librispeech/LibriSpeech/test-other/1688/142285/*.flac')\n",
    "len(audio_files)\n"
   ]
  },
  {
   "cell_type": "code",
   "execution_count": null,
   "id": "chief-drain",
   "metadata": {},
   "outputs": [],
   "source": [
    "input_file= audio_files[-10]\n",
    "input_file"
   ]
  },
  {
   "cell_type": "markdown",
   "id": "understanding-bronze",
   "metadata": {},
   "source": [
    "## Sample rate 32000"
   ]
  },
  {
   "cell_type": "code",
   "execution_count": null,
   "id": "waiting-warehouse",
   "metadata": {},
   "outputs": [],
   "source": [
    "sample_rate=16000"
   ]
  },
  {
   "cell_type": "code",
   "execution_count": null,
   "id": "narrative-bruce",
   "metadata": {},
   "outputs": [],
   "source": [
    "y,sr= load_mel.load_audio(input_file, sample_rate)\n",
    "spec= load_mel.get_spectrogram(y,sr,apply_denoise=False,return_audio=False)\n",
    "\n",
    "load_mel.plot_feature(spec)"
   ]
  },
  {
   "cell_type": "code",
   "execution_count": null,
   "id": "romance-staff",
   "metadata": {},
   "outputs": [],
   "source": [
    "y_denoised= load_mel.denoise(y, sr, threshold=0.25)\n",
    "spec_denoised= load_mel.get_spectrogram(y_denoised,sr,apply_denoise=False,return_audio=False)\n",
    "\n",
    "\n",
    "load_mel.plot_feature(spec_denoised)"
   ]
  },
  {
   "cell_type": "code",
   "execution_count": null,
   "id": "reliable-highlight",
   "metadata": {},
   "outputs": [],
   "source": []
  },
  {
   "cell_type": "markdown",
   "id": "inner-associate",
   "metadata": {},
   "source": [
    "## Sample rate 16000\n"
   ]
  },
  {
   "cell_type": "code",
   "execution_count": null,
   "id": "another-portrait",
   "metadata": {},
   "outputs": [],
   "source": [
    "sample_rate=16000"
   ]
  },
  {
   "cell_type": "code",
   "execution_count": null,
   "id": "preceding-singapore",
   "metadata": {},
   "outputs": [],
   "source": [
    "y,sr= load_mel.load_audio(input_file, sample_rate)\n",
    "spec= load_mel.get_spectrogram(y,sr,apply_denoise=False,return_audio=False)\n",
    "\n",
    "load_mel.plot_feature(spec)"
   ]
  },
  {
   "cell_type": "code",
   "execution_count": null,
   "id": "accessible-teach",
   "metadata": {},
   "outputs": [],
   "source": [
    "y_denoised= load_mel.denoise(y, sr, threshold=0.25)\n",
    "spec_denoised= load_mel.get_spectrogram(y_denoised,sr,apply_denoise=False,return_audio=False)\n",
    "\n",
    "\n",
    "load_mel.plot_feature(spec_denoised)"
   ]
  },
  {
   "cell_type": "code",
   "execution_count": null,
   "id": "fiscal-female",
   "metadata": {},
   "outputs": [],
   "source": [
    "#with denoise true\n",
    "y,sr= load_mel.load_audio(input_file, sample_rate)\n",
    "spec2= load_mel.get_spectrogram(y,sr,apply_denoise=True ,return_audio=False)\n",
    "\n",
    "load_mel.plot_feature(spec2)"
   ]
  },
  {
   "cell_type": "code",
   "execution_count": null,
   "id": "paperback-overhead",
   "metadata": {},
   "outputs": [],
   "source": [
    "spec2.shape"
   ]
  },
  {
   "cell_type": "code",
   "execution_count": null,
   "id": "protected-question",
   "metadata": {},
   "outputs": [],
   "source": []
  }
 ],
 "metadata": {
  "environment": {
   "name": "tf2-gpu.2-3.mnightly-2021-01-20-debian-10-test",
   "type": "gcloud",
   "uri": "gcr.io/deeplearning-platform-release/tf2-gpu.2-3:mnightly-2021-01-20-debian-10-test"
  },
  "kernelspec": {
   "display_name": "Python 3",
   "language": "python",
   "name": "python3"
  },
  "language_info": {
   "codemirror_mode": {
    "name": "ipython",
    "version": 3
   },
   "file_extension": ".py",
   "mimetype": "text/x-python",
   "name": "python",
   "nbconvert_exporter": "python",
   "pygments_lexer": "ipython3",
   "version": "3.7.9"
  }
 },
 "nbformat": 4,
 "nbformat_minor": 5
}
