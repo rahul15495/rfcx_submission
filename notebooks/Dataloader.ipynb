{
 "cells": [
  {
   "cell_type": "code",
   "execution_count": 1,
   "id": "grave-profile",
   "metadata": {},
   "outputs": [],
   "source": [
    "import numpy as np\n",
    "import pandas as pd\n",
    "from torch.utils.data import Dataset"
   ]
  },
  {
   "cell_type": "code",
   "execution_count": 2,
   "id": "narrow-liver",
   "metadata": {},
   "outputs": [],
   "source": [
    "import torch"
   ]
  },
  {
   "cell_type": "code",
   "execution_count": 3,
   "id": "communist-august",
   "metadata": {},
   "outputs": [
    {
     "name": "stderr",
     "output_type": "stream",
     "text": [
      "/opt/conda/lib/python3.7/site-packages/torch/cuda/__init__.py:52: UserWarning: CUDA initialization: Found no NVIDIA driver on your system. Please check that you have an NVIDIA GPU and installed a driver from http://www.nvidia.com/Download/index.aspx (Triggered internally at  /pytorch/c10/cuda/CUDAFunctions.cpp:100.)\n",
      "  return torch._C._cuda_getDeviceCount() > 0\n"
     ]
    }
   ],
   "source": [
    "import sys\n",
    "sys.path.append('../scripts')\n",
    "\n",
    "from dataloader import (get_train_mapping, BaseDataset , get_dataloaders)"
   ]
  },
  {
   "cell_type": "code",
   "execution_count": 4,
   "id": "double-pharmacy",
   "metadata": {},
   "outputs": [],
   "source": [
    "from IPython.display import Audio\n",
    "import librosa\n",
    "import librosa.display\n",
    "\n",
    "def show_audio(y,sr=16000):\n",
    "    librosa.display.waveplot(y, sr=sr)\n",
    "\n",
    "    spec= load_mel.get_spectrogram(y,sr,apply_denoise=False,return_audio=False)\n",
    "    load_mel.plot_feature(spec)\n",
    "    \n",
    "    return Audio(y,rate=sr)"
   ]
  },
  {
   "cell_type": "code",
   "execution_count": null,
   "id": "international-grenada",
   "metadata": {},
   "outputs": [],
   "source": []
  },
  {
   "cell_type": "code",
   "execution_count": 5,
   "id": "divided-obligation",
   "metadata": {},
   "outputs": [],
   "source": [
    "root_dir= '/home/jupyter/rfcx/data/train'\n",
    "df= pd.read_csv('/home/jupyter/rfcx/data/train_tp.csv')\n",
    "\n",
    "\n",
    "mapping= get_train_mapping(df)\n",
    "train_dataset = BaseDataset(root_dir, mapping,  enable_mixup=True, enable_aug=False)\n",
    "test_dataset = BaseDataset(root_dir, mapping,  enable_mixup=False, enable_aug=False)"
   ]
  },
  {
   "cell_type": "raw",
   "id": "certain-delight",
   "metadata": {},
   "source": [
    "y,feat,label = train_dataset.__getitem__(100)\n",
    "print(label)\n",
    "show_audio(y)"
   ]
  },
  {
   "cell_type": "raw",
   "id": "august-tract",
   "metadata": {},
   "source": [
    "y,feat,label = test_dataset.__getitem__(100)\n",
    "print(label)\n",
    "show_audio(y)"
   ]
  },
  {
   "cell_type": "code",
   "execution_count": 19,
   "id": "blocked-proposition",
   "metadata": {},
   "outputs": [],
   "source": [
    "batch_size=3\n",
    "\n",
    "device = torch.device(\"cuda\" if torch.cuda.is_available() else \"cpu\")"
   ]
  },
  {
   "cell_type": "code",
   "execution_count": 20,
   "id": "south-living",
   "metadata": {},
   "outputs": [
    {
     "name": "stdout",
     "output_type": "stream",
     "text": [
      "training: number of docs : 378\n",
      "evaluation: number of docs : 378\n"
     ]
    }
   ],
   "source": [
    "dls= get_dataloaders(train_dataset, test_dataset, batch_size,device)"
   ]
  },
  {
   "cell_type": "code",
   "execution_count": 21,
   "id": "skilled-treaty",
   "metadata": {},
   "outputs": [],
   "source": [
    "b = dls.one_batch()"
   ]
  },
  {
   "cell_type": "code",
   "execution_count": 28,
   "id": "rental-angola",
   "metadata": {},
   "outputs": [],
   "source": [
    "train, test = b"
   ]
  },
  {
   "cell_type": "code",
   "execution_count": 29,
   "id": "applied-efficiency",
   "metadata": {},
   "outputs": [
    {
     "data": {
      "text/plain": [
       "torch.Size([3, 4801, 80])"
      ]
     },
     "execution_count": 29,
     "metadata": {},
     "output_type": "execute_result"
    }
   ],
   "source": [
    "train[0].shape"
   ]
  },
  {
   "cell_type": "code",
   "execution_count": 30,
   "id": "detailed-yugoslavia",
   "metadata": {},
   "outputs": [
    {
     "data": {
      "text/plain": [
       "torch.Size([3, 24])"
      ]
     },
     "execution_count": 30,
     "metadata": {},
     "output_type": "execute_result"
    }
   ],
   "source": [
    "test.shape"
   ]
  },
  {
   "cell_type": "code",
   "execution_count": null,
   "id": "cloudy-ballot",
   "metadata": {},
   "outputs": [],
   "source": []
  }
 ],
 "metadata": {
  "environment": {
   "name": "tf2-gpu.2-3.mnightly-2021-01-20-debian-10-test",
   "type": "gcloud",
   "uri": "gcr.io/deeplearning-platform-release/tf2-gpu.2-3:mnightly-2021-01-20-debian-10-test"
  },
  "kernelspec": {
   "display_name": "Python 3",
   "language": "python",
   "name": "python3"
  },
  "language_info": {
   "codemirror_mode": {
    "name": "ipython",
    "version": 3
   },
   "file_extension": ".py",
   "mimetype": "text/x-python",
   "name": "python",
   "nbconvert_exporter": "python",
   "pygments_lexer": "ipython3",
   "version": "3.7.9"
  }
 },
 "nbformat": 4,
 "nbformat_minor": 5
}
