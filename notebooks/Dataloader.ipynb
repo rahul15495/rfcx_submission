{
 "cells": [
  {
   "cell_type": "code",
   "execution_count": 1,
   "id": "designed-trust",
   "metadata": {},
   "outputs": [],
   "source": [
    "import numpy as np\n",
    "import pandas as pd\n",
    "from torch.utils.data import Dataset"
   ]
  },
  {
   "cell_type": "code",
   "execution_count": 2,
   "id": "thrown-billy",
   "metadata": {},
   "outputs": [],
   "source": [
    "import torch"
   ]
  },
  {
   "cell_type": "code",
   "execution_count": 3,
   "id": "nervous-liechtenstein",
   "metadata": {},
   "outputs": [],
   "source": [
    "import sys\n",
    "sys.path.append('../scripts')\n",
    "\n",
    "from dataloader import (get_train_mapping, BaseDataset , get_dataloaders)"
   ]
  },
  {
   "cell_type": "code",
   "execution_count": 4,
   "id": "sporting-swiss",
   "metadata": {},
   "outputs": [],
   "source": [
    "from IPython.display import Audio\n",
    "import librosa\n",
    "import librosa.display\n",
    "\n",
    "def show_audio(y,sr=16000):\n",
    "    librosa.display.waveplot(y, sr=sr)\n",
    "\n",
    "    spec= load_mel.get_spectrogram(y,sr,apply_denoise=False,return_audio=False)\n",
    "    load_mel.plot_feature(spec)\n",
    "    \n",
    "    return Audio(y,rate=sr)"
   ]
  },
  {
   "cell_type": "code",
   "execution_count": null,
   "id": "soviet-leeds",
   "metadata": {},
   "outputs": [],
   "source": []
  },
  {
   "cell_type": "code",
   "execution_count": 15,
   "id": "clear-lounge",
   "metadata": {},
   "outputs": [],
   "source": [
    "root_dir= '/home/jupyter/rfcx/data/train'\n",
    "df= pd.read_csv('/home/jupyter/rfcx/data/train_tp.csv')\n",
    "\n",
    "\n",
    "mapping= get_train_mapping(df)\n",
    "train_dataset = BaseDataset(root_dir, mapping,  enable_mixup=True, enable_aug=True)\n",
    "test_dataset = BaseDataset(root_dir, mapping,  enable_mixup=False, enable_aug=False)"
   ]
  },
  {
   "cell_type": "raw",
   "id": "downtown-speaker",
   "metadata": {},
   "source": [
    "y,feat,label = train_dataset.__getitem__(100)\n",
    "print(label)\n",
    "show_audio(y)"
   ]
  },
  {
   "cell_type": "raw",
   "id": "defined-quarter",
   "metadata": {},
   "source": [
    "y,feat,label = test_dataset.__getitem__(100)\n",
    "print(label)\n",
    "show_audio(y)"
   ]
  },
  {
   "cell_type": "code",
   "execution_count": 16,
   "id": "owned-bolivia",
   "metadata": {},
   "outputs": [],
   "source": [
    "batch_size=2\n",
    "\n",
    "device = torch.device(\"cuda\" if torch.cuda.is_available() else \"cpu\")"
   ]
  },
  {
   "cell_type": "code",
   "execution_count": 17,
   "id": "physical-trunk",
   "metadata": {},
   "outputs": [
    {
     "name": "stdout",
     "output_type": "stream",
     "text": [
      "training: number of docs : 566\n",
      "evaluation: number of docs : 566\n"
     ]
    }
   ],
   "source": [
    "train_dataloader, eval_dataloader= get_dataloaders(train_dataset, test_dataset, batch_size, device)"
   ]
  },
  {
   "cell_type": "code",
   "execution_count": 18,
   "id": "purple-legislature",
   "metadata": {},
   "outputs": [],
   "source": [
    "td= iter(train_dataloader)"
   ]
  },
  {
   "cell_type": "code",
   "execution_count": 20,
   "id": "institutional-company",
   "metadata": {},
   "outputs": [
    {
     "name": "stdout",
     "output_type": "stream",
     "text": [
      "CPU times: user 13 s, sys: 604 ms, total: 13.6 s\n",
      "Wall time: 12.6 s\n"
     ]
    }
   ],
   "source": [
    "%%time\n",
    "x,y = next(td)"
   ]
  },
  {
   "cell_type": "code",
   "execution_count": null,
   "id": "experienced-reception",
   "metadata": {},
   "outputs": [],
   "source": []
  }
 ],
 "metadata": {
  "environment": {
   "name": "tf2-gpu.2-3.mnightly-2021-01-20-debian-10-test",
   "type": "gcloud",
   "uri": "gcr.io/deeplearning-platform-release/tf2-gpu.2-3:mnightly-2021-01-20-debian-10-test"
  },
  "kernelspec": {
   "display_name": "Python 3",
   "language": "python",
   "name": "python3"
  },
  "language_info": {
   "codemirror_mode": {
    "name": "ipython",
    "version": 3
   },
   "file_extension": ".py",
   "mimetype": "text/x-python",
   "name": "python",
   "nbconvert_exporter": "python",
   "pygments_lexer": "ipython3",
   "version": "3.7.9"
  }
 },
 "nbformat": 4,
 "nbformat_minor": 5
}
